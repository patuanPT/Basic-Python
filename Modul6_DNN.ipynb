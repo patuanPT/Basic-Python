{
 "cells": [
  {
   "cell_type": "code",
   "execution_count": null,
   "metadata": {
    "colab": {},
    "colab_type": "code",
    "id": "hFXnWDRhsx5v"
   },
   "outputs": [],
   "source": [
    "import torch\n",
    "import numpy as np\n",
    "import matplotlib.pyplot as plt\n",
    "import torch.nn as nn\n",
    "from sklearn import datasets"
   ]
  },
  {
   "cell_type": "markdown",
   "metadata": {},
   "source": [
    "# DNN"
   ]
  },
  {
   "cell_type": "markdown",
   "metadata": {},
   "source": [
    "![title](img/dnn.PNG)"
   ]
  },
  {
   "cell_type": "markdown",
   "metadata": {},
   "source": [
    "## 1. Membuat dataset"
   ]
  },
  {
   "cell_type": "code",
   "execution_count": null,
   "metadata": {
    "colab": {},
    "colab_type": "code",
    "id": "QCMUlB9Ixk3h"
   },
   "outputs": [],
   "source": [
    "n_pts = 500\n",
    "X, y = datasets.make_circles(n_samples=n_pts, random_state=123, noise=0.1, factor=0.2)\n",
    "x_data = torch.Tensor(X)\n",
    "y_data = torch.Tensor(y.reshape(500, 1))"
   ]
  },
  {
   "cell_type": "code",
   "execution_count": null,
   "metadata": {
    "colab": {},
    "colab_type": "code",
    "id": "oLHJ4q5pyx56"
   },
   "outputs": [],
   "source": [
    "def scatter_plot():\n",
    "  plt.scatter(X[y==0, 0], X[y==0, 1])\n",
    "  plt.scatter(X[y==1, 0], X[y==1, 1])"
   ]
  },
  {
   "cell_type": "code",
   "execution_count": null,
   "metadata": {
    "colab": {
     "base_uri": "https://localhost:8080/",
     "height": 347
    },
    "colab_type": "code",
    "id": "AzVGT6CyDgNM",
    "outputId": "fe439fe3-8e88-4429-a392-0bbd72ab20a5",
    "scrolled": true
   },
   "outputs": [],
   "source": [
    "scatter_plot()"
   ]
  },
  {
   "cell_type": "markdown",
   "metadata": {},
   "source": [
    "## 2. Membuat kelas model"
   ]
  },
  {
   "cell_type": "code",
   "execution_count": null,
   "metadata": {
    "colab": {},
    "colab_type": "code",
    "id": "X1wjceQT0qyG"
   },
   "outputs": [],
   "source": [
    "class Model(nn.Module):\n",
    "  def __init__(self, input_size, H1, output_size):\n",
    "    super().__init__()\n",
    "    self.linear = nn.Linear(input_size, H1)\n",
    "    self.linear2 = nn.Linear(H1, output_size)\n",
    "  def forward(self, x):\n",
    "    x = torch.sigmoid(self.linear(x))\n",
    "    x = torch.sigmoid(self.linear2(x))\n",
    "    return x\n",
    "  def predict(self, x):\n",
    "    pred = self.forward(x)\n",
    "    if pred >= 0.5:\n",
    "      return 1\n",
    "    else: \n",
    "      return 0"
   ]
  },
  {
   "cell_type": "code",
   "execution_count": null,
   "metadata": {
    "colab": {
     "base_uri": "https://localhost:8080/",
     "height": 153
    },
    "colab_type": "code",
    "id": "_iEqXYfO7FHf",
    "outputId": "dc1bb58c-bfe1-4576-9537-a9da3ef479bc"
   },
   "outputs": [],
   "source": [
    "torch.manual_seed(2)\n",
    "model = Model(2, 4, 1)\n",
    "print(list(model.parameters()))"
   ]
  },
  {
   "cell_type": "code",
   "execution_count": null,
   "metadata": {
    "colab": {},
    "colab_type": "code",
    "id": "5iYIwrM2Dotk"
   },
   "outputs": [],
   "source": [
    "criterion = nn.BCELoss()\n",
    "optimizer = torch.optim.Adam(model.parameters(), lr=0.1)"
   ]
  },
  {
   "cell_type": "code",
   "execution_count": null,
   "metadata": {
    "colab": {
     "base_uri": "https://localhost:8080/",
     "height": 17017
    },
    "colab_type": "code",
    "id": "LALoFQdLQh4G",
    "outputId": "0613749a-f6a7-41bb-b41d-5ab19895b3d7"
   },
   "outputs": [],
   "source": [
    "epochs = 1000\n",
    "losses = []\n",
    "for i in range(epochs):\n",
    "  y_pred = model.forward(x_data)\n",
    "  loss = criterion(y_pred, y_data)\n",
    "  print(\"epoch:\", i, \"loss\", loss.item())\n",
    "  losses.append(loss.item())\n",
    "  optimizer.zero_grad()\n",
    "  loss.backward()\n",
    "  optimizer.step()"
   ]
  },
  {
   "cell_type": "code",
   "execution_count": null,
   "metadata": {
    "colab": {
     "base_uri": "https://localhost:8080/",
     "height": 378
    },
    "colab_type": "code",
    "id": "8JmFjKu5SSj_",
    "outputId": "a382501f-9b67-46f4-ddf4-c2cf0401c00d"
   },
   "outputs": [],
   "source": [
    "plt.plot(range(epochs), losses)\n",
    "plt.ylabel('Loss')\n",
    "plt.xlabel('epoch')"
   ]
  },
  {
   "cell_type": "code",
   "execution_count": null,
   "metadata": {
    "colab": {},
    "colab_type": "code",
    "id": "6tPbQJEUgpGh"
   },
   "outputs": [],
   "source": [
    "def plot_decision_boundary(X, y):\n",
    "  x_span = np.linspace(min(X[:, 0]) -0.25, max(X[:, 0])+0.25)\n",
    "  y_span = np.linspace(min(X[:, 1]) -0.25, max(X[:, 1])+0.25)\n",
    "  xx, yy = np.meshgrid(x_span, y_span)\n",
    "  grid = torch.Tensor(np.c_[xx.ravel(), yy.ravel()])\n",
    "  pred_func = model.forward(grid)\n",
    "  z = pred_func.view(xx.shape).detach().numpy()\n",
    "  plt.contourf(xx, yy, z)"
   ]
  },
  {
   "cell_type": "code",
   "execution_count": null,
   "metadata": {
    "colab": {
     "base_uri": "https://localhost:8080/",
     "height": 347
    },
    "colab_type": "code",
    "id": "0vjA-98adqfv",
    "outputId": "4ab68034-b07e-497f-c9aa-d610c1a2543e"
   },
   "outputs": [],
   "source": [
    "plot_decision_boundary(X, y)\n",
    "scatter_plot()"
   ]
  },
  {
   "cell_type": "code",
   "execution_count": null,
   "metadata": {},
   "outputs": [],
   "source": [
    "list(model.parameters())"
   ]
  },
  {
   "cell_type": "code",
   "execution_count": null,
   "metadata": {
    "colab": {
     "base_uri": "https://localhost:8080/",
     "height": 364
    },
    "colab_type": "code",
    "id": "KyzCB3fKj2Z4",
    "outputId": "23d59b1b-172a-4984-8cdf-50ecdb28ad87"
   },
   "outputs": [],
   "source": [
    "x = 0.025\n",
    "y = 0.025\n",
    "point = torch.Tensor([x, y])\n",
    "prediction = model.predict(point)\n",
    "plt.plot([x], [y], marker='o', markersize=10, color=\"red\")\n",
    "print(\"Prediksinya ada di kelas \", prediction)\n",
    "plot_decision_boundary(X, y)"
   ]
  },
  {
   "cell_type": "code",
   "execution_count": null,
   "metadata": {},
   "outputs": [],
   "source": []
  }
 ],
 "metadata": {
  "colab": {
   "name": "Deep Neural Networks.ipynb",
   "provenance": [],
   "version": "0.3.2"
  },
  "kernelspec": {
   "display_name": "Python 3",
   "language": "python",
   "name": "python3"
  },
  "language_info": {
   "codemirror_mode": {
    "name": "ipython",
    "version": 3
   },
   "file_extension": ".py",
   "mimetype": "text/x-python",
   "name": "python",
   "nbconvert_exporter": "python",
   "pygments_lexer": "ipython3",
   "version": "3.7.6"
  }
 },
 "nbformat": 4,
 "nbformat_minor": 4
}
