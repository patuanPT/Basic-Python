{
 "cells": [
  {
   "cell_type": "code",
   "execution_count": null,
   "metadata": {
    "colab": {},
    "colab_type": "code",
    "id": "Ryap-Zb2pFEY"
   },
   "outputs": [],
   "source": [
    "import torch\n",
    "import numpy as np\n",
    "import matplotlib.pyplot as plt\n",
    "import torch.nn as nn\n",
    "from sklearn import datasets"
   ]
  },
  {
   "cell_type": "markdown",
   "metadata": {},
   "source": [
    "## 1. Membuat dataset"
   ]
  },
  {
   "cell_type": "code",
   "execution_count": null,
   "metadata": {
    "colab": {
     "base_uri": "https://localhost:8080/",
     "height": 34
    },
    "colab_type": "code",
    "id": "NiC6YpK3xMFH",
    "outputId": "6b807219-545c-4326-ca5a-683690d0a616"
   },
   "outputs": [],
   "source": [
    "  n_pts = 100 # data point\n",
    "  centers = [[-0.5, 0.5], [0.5, -0.5]]\n",
    "  X, y = datasets.make_blobs(n_samples=n_pts, random_state=123, centers=centers, cluster_std=0.4)\n",
    "  \n",
    "  x_data = torch.Tensor(X)\n",
    "  y_data = torch.Tensor(y.reshape(100, 1))\n",
    "  print(y.shape)"
   ]
  },
  {
   "cell_type": "code",
   "execution_count": null,
   "metadata": {
    "colab": {},
    "colab_type": "code",
    "id": "YuBCy1etmbXv"
   },
   "outputs": [],
   "source": [
    "def scatter_plot():\n",
    "  plt.scatter(X[y==0, 0], X[y==0, 1])\n",
    "  plt.scatter(X[y==1, 0], X[y==1, 1])"
   ]
  },
  {
   "cell_type": "code",
   "execution_count": null,
   "metadata": {
    "colab": {
     "base_uri": "https://localhost:8080/",
     "height": 347
    },
    "colab_type": "code",
    "id": "MNTairXO7CoY",
    "outputId": "d7ec5dcf-f781-4bce-b731-746d6557269a",
    "scrolled": true
   },
   "outputs": [],
   "source": [
    "scatter_plot()"
   ]
  },
  {
   "cell_type": "markdown",
   "metadata": {},
   "source": [
    "## 2. Membuat kelas model"
   ]
  },
  {
   "cell_type": "code",
   "execution_count": null,
   "metadata": {
    "colab": {},
    "colab_type": "code",
    "id": "0h9thO1Q4-rp"
   },
   "outputs": [],
   "source": [
    "class Model(nn.Module):\n",
    "    def __init__(self, input_size, output_size):\n",
    "      super().__init__() \n",
    "      self.linear = nn.Linear(input_size, output_size) # 1 neuron, input_size 2, X dan Y, output 1 karena class 1\n",
    "    def forward(self, x):\n",
    "      pred = torch.sigmoid(self.linear(x)) # non-linearity pakai sigmoid\n",
    "      return pred\n",
    "    def predict(self, x):\n",
    "      pred = self.forward(x)\n",
    "      if pred >= 0.5:\n",
    "        return 1\n",
    "      else:\n",
    "        return 0"
   ]
  },
  {
   "cell_type": "code",
   "execution_count": null,
   "metadata": {
    "colab": {
     "base_uri": "https://localhost:8080/",
     "height": 68
    },
    "colab_type": "code",
    "id": "LB63faE7qUQL",
    "outputId": "c7544709-d6c8-44c6-c931-b3954d1a17f3"
   },
   "outputs": [],
   "source": [
    "torch.manual_seed(2)\n",
    "model = Model(2, 1)\n",
    "print(list(model.parameters()))"
   ]
  },
  {
   "cell_type": "code",
   "execution_count": null,
   "metadata": {
    "colab": {},
    "colab_type": "code",
    "id": "STukrpJxsFh4"
   },
   "outputs": [],
   "source": [
    "[w, b] = model.parameters()\n",
    "w1, w2 = w.view(2)\n",
    "def get_params():\n",
    "  return (w1.item(), w2.item(), b[0].item())"
   ]
  },
  {
   "cell_type": "code",
   "execution_count": null,
   "metadata": {
    "colab": {},
    "colab_type": "code",
    "id": "DTnldDw01Hm3"
   },
   "outputs": [],
   "source": [
    "def plot_fit(title):\n",
    "  plt.title = title\n",
    "  w1, w2, b1 = get_params()\n",
    "  x1 = np.array([-2, 2])\n",
    "  x2 = (w1*x1 + b1)/(-w2)\n",
    "  plt.plot(x1, x2, 'r')\n",
    "  scatter_plot()\n",
    "  plt.show()"
   ]
  },
  {
   "cell_type": "code",
   "execution_count": null,
   "metadata": {
    "colab": {
     "base_uri": "https://localhost:8080/",
     "height": 347
    },
    "colab_type": "code",
    "id": "LGTMKS2b6awq",
    "outputId": "7c5aac23-5d1e-421d-b1d8-f5b5ea36d8ef",
    "scrolled": true
   },
   "outputs": [],
   "source": [
    "plot_fit('Initial Model')"
   ]
  },
  {
   "cell_type": "markdown",
   "metadata": {},
   "source": [
    "## 3. Loss Function dan Optimizer"
   ]
  },
  {
   "cell_type": "code",
   "execution_count": null,
   "metadata": {
    "colab": {},
    "colab_type": "code",
    "id": "DUXu7_tK6eR4"
   },
   "outputs": [],
   "source": [
    "criterion = nn.BCELoss()\n",
    "optimizer = torch.optim.SGD(model.parameters(), lr=0.01)"
   ]
  },
  {
   "cell_type": "code",
   "execution_count": null,
   "metadata": {
    "colab": {
     "base_uri": "https://localhost:8080/",
     "height": 17017
    },
    "colab_type": "code",
    "id": "1XdkjaRQaol6",
    "outputId": "c93b8b24-6ab6-4c48-838b-d9f9f580608f"
   },
   "outputs": [],
   "source": [
    "epochs = 1000\n",
    "losses = []\n",
    "\n",
    "for i in range(epochs):\n",
    "  y_pred = model.forward(x_data) # forward\n",
    "  loss = criterion(y_pred, y_data) # compute loss\n",
    "  print(\"epoch:\", i, \"loss:\", loss.item())\n",
    "  losses.append(loss.item())\n",
    "  optimizer.zero_grad() # turunan untuk mencari nilai minimum\n",
    "  loss.backward() # backward\n",
    "  optimizer.step() # iterasi dan update weight"
   ]
  },
  {
   "cell_type": "code",
   "execution_count": null,
   "metadata": {
    "colab": {
     "base_uri": "https://localhost:8080/",
     "height": 361
    },
    "colab_type": "code",
    "id": "1I9z8spjhfvB",
    "outputId": "722284b8-e160-4a3c-f759-59a89cc09379",
    "scrolled": true
   },
   "outputs": [],
   "source": [
    "plt.plot(range(epochs), losses)\n",
    "plt.ylabel('Loss')\n",
    "plt.xlabel('epoch')\n",
    "plt.grid()"
   ]
  },
  {
   "cell_type": "markdown",
   "metadata": {},
   "source": [
    "## 4. Plot dari Model terbaik yang didapatkan"
   ]
  },
  {
   "cell_type": "code",
   "execution_count": null,
   "metadata": {
    "colab": {
     "base_uri": "https://localhost:8080/",
     "height": 347
    },
    "colab_type": "code",
    "id": "mGARbKBEqXql",
    "outputId": "a3698f8d-3490-42fa-aee4-4765318a5600"
   },
   "outputs": [],
   "source": [
    "plot_fit(\"Trained Model\")"
   ]
  },
  {
   "cell_type": "code",
   "execution_count": null,
   "metadata": {},
   "outputs": [],
   "source": [
    "get_params() # y = w[x1, x2] + w0\n",
    "# y = [1.4355945587158203, -1.4284124374389648][x1,x2] + (-0.06880919635295868)"
   ]
  },
  {
   "cell_type": "markdown",
   "metadata": {},
   "source": [
    "## Menggunakan model diatas untuk memprediksi"
   ]
  },
  {
   "cell_type": "code",
   "execution_count": null,
   "metadata": {
    "colab": {
     "base_uri": "https://localhost:8080/",
     "height": 415
    },
    "colab_type": "code",
    "id": "nC-bxsmVrgkO",
    "outputId": "53eaee1c-0694-4ad4-cc56-3d07037cedd9"
   },
   "outputs": [],
   "source": [
    "point1 = torch.Tensor([1.0, -1.0])\n",
    "point2 = torch.Tensor([-1.0, 1.0])\n",
    "plt.plot(point1.numpy()[0], point1.numpy()[1], 'ro') # titik merah\n",
    "plt.plot(point2.numpy()[0], point2.numpy()[1], 'ko') # titik hitam\n",
    "plot_fit(\"Trained Model\")\n",
    "print(\"Titik orange probabilitas positif = {}\".format(model.forward(point1).item())) \n",
    "print(\"Titik biru probabilitas positif = {}\".format(model.forward(point2).item())) \n",
    "print(\"Titik merah ada dikelas = {}\".format(model.predict(point1))) \n",
    "print(\"Titik hitam ada di kelas = {}\".format(model.predict(point2))) "
   ]
  },
  {
   "cell_type": "code",
   "execution_count": null,
   "metadata": {},
   "outputs": [],
   "source": []
  }
 ],
 "metadata": {
  "colab": {
   "name": "Perceptron.ipynb",
   "provenance": [],
   "version": "0.3.2"
  },
  "kernelspec": {
   "display_name": "Python 3",
   "language": "python",
   "name": "python3"
  },
  "language_info": {
   "codemirror_mode": {
    "name": "ipython",
    "version": 3
   },
   "file_extension": ".py",
   "mimetype": "text/x-python",
   "name": "python",
   "nbconvert_exporter": "python",
   "pygments_lexer": "ipython3",
   "version": "3.7.6"
  }
 },
 "nbformat": 4,
 "nbformat_minor": 4
}
